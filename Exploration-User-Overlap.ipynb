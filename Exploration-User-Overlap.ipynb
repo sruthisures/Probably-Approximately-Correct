{
 "cells": [
  {
   "cell_type": "markdown",
   "metadata": {},
   "source": [
    "### Amazon Dataset Exploration\n",
    "\n",
    "Let's see what we can discover about this dataset that might be useful in our models."
   ]
  },
  {
   "cell_type": "code",
   "execution_count": 1,
   "metadata": {},
   "outputs": [],
   "source": [
    "import pandas as pd\n",
    "import numpy\n",
    "import gzip\n",
    "from collections import defaultdict"
   ]
  },
  {
   "cell_type": "code",
   "execution_count": 5,
   "metadata": {},
   "outputs": [],
   "source": [
    "# Import Select Columns\n",
    "\n",
    "def readGz(f):\n",
    "  for l in gzip.open(f):\n",
    "    yield eval(l)\n",
    "    \n",
    "reviews = []\n",
    "# for l in readGz(\"/content/drive/My Drive/train.json.gz\"):\n",
    "for l in readGz(\"train.json.gz\"):\n",
    "    reviews.append(l['reviewText'])\n",
    "    \n",
    "categories = []\n",
    "# for l in readGz(\"/content/drive/My Drive/train.json.gz\"):\n",
    "for l in readGz(\"train.json.gz\"):\n",
    "    categories.append(l['categoryID'])"
   ]
  },
  {
   "cell_type": "code",
   "execution_count": 7,
   "metadata": {},
   "outputs": [
    {
     "data": {
      "text/plain": [
       "{'reviewTime': '09 26, 2013',\n",
       " 'reviewText': \"The model in this picture has them rolled up at the top because they are actually very high waisted! that's my only complaint though, because they are very good quality, and fit really well! I am 5'2&#34; 120lbs with thick thighs and i love them i can't wait to wear them out!\",\n",
       " 'helpful': {'nHelpful': 0, 'outOf': 0},\n",
       " 'reviewerID': 'U490934656',\n",
       " 'reviewHash': 'R798569390',\n",
       " 'categories': [['Clothing, Shoes & Jewelry', 'Women'],\n",
       "  ['Clothing, Shoes & Jewelry',\n",
       "   'Novelty, Costumes & More',\n",
       "   'Novelty',\n",
       "   'Clothing',\n",
       "   'Women',\n",
       "   'Leggings']],\n",
       " 'unixReviewTime': 1380153600,\n",
       " 'itemID': 'I402344648',\n",
       " 'rating': 4.0,\n",
       " 'summary': 'High Waisted',\n",
       " 'categoryID': 0}"
      ]
     },
     "execution_count": 7,
     "metadata": {},
     "output_type": "execute_result"
    }
   ],
   "source": [
    "# Import all cols for preview\n",
    "train_allcols = []\n",
    "for l in readGz(\"train.json.gz\"):\n",
    "    train_allcols.append(l)\n",
    "    \n",
    "train_allcols[0]"
   ]
  },
  {
   "cell_type": "code",
   "execution_count": 8,
   "metadata": {},
   "outputs": [],
   "source": [
    "# Import Test data\n",
    "\n",
    "def readGz(f):\n",
    "  for l in gzip.open(f):\n",
    "    yield eval(l)\n",
    "   \n",
    "test_users = []\n",
    "for l in readGz(\"test_Category.json.gz\"):\n",
    "    test_users.append(l['reviewerID'])\n",
    "    \n",
    "test_allcol = []\n",
    "for l in readGz(\"test_Category.json.gz\"):\n",
    "    test_allcol.append(l)"
   ]
  },
  {
   "cell_type": "code",
   "execution_count": 9,
   "metadata": {},
   "outputs": [
    {
     "data": {
      "text/plain": [
       "{'reviewTime': '07 26, 2013',\n",
       " 'reviewText': 'I love this blouse, in fact I have it on right now....all of my friends like it and want one.',\n",
       " 'helpful': {'nHelpful': 9, 'outOf': 9},\n",
       " 'reviewerID': 'U281659737',\n",
       " 'reviewHash': 'R934811302',\n",
       " 'unixReviewTime': 1374796800,\n",
       " 'rating': 5.0,\n",
       " 'summary': 'love it'}"
      ]
     },
     "execution_count": 9,
     "metadata": {},
     "output_type": "execute_result"
    }
   ],
   "source": [
    "test_allcol[0]"
   ]
  },
  {
   "cell_type": "code",
   "execution_count": 10,
   "metadata": {},
   "outputs": [],
   "source": [
    "# Check the reviewers in the training data, and see if any of them appear in the test data\n",
    "\n",
    "train_users = []\n",
    "for l in readGz(\"train.json.gz\"):\n",
    "    train_users.append(l['reviewerID'])\n",
    "\n",
    "    \n",
    "test_users = []\n",
    "for l in readGz(\"test_Category.json.gz\"):\n",
    "    test_users.append(l['reviewerID'])\n"
   ]
  },
  {
   "cell_type": "code",
   "execution_count": 29,
   "metadata": {},
   "outputs": [
    {
     "data": {
      "text/html": [
       "<div>\n",
       "<style scoped>\n",
       "    .dataframe tbody tr th:only-of-type {\n",
       "        vertical-align: middle;\n",
       "    }\n",
       "\n",
       "    .dataframe tbody tr th {\n",
       "        vertical-align: top;\n",
       "    }\n",
       "\n",
       "    .dataframe thead th {\n",
       "        text-align: right;\n",
       "    }\n",
       "</style>\n",
       "<table border=\"1\" class=\"dataframe\">\n",
       "  <thead>\n",
       "    <tr style=\"text-align: right;\">\n",
       "      <th></th>\n",
       "      <th>ReviewerID</th>\n",
       "    </tr>\n",
       "  </thead>\n",
       "  <tbody>\n",
       "    <tr>\n",
       "      <th>0</th>\n",
       "      <td>U490934656</td>\n",
       "    </tr>\n",
       "    <tr>\n",
       "      <th>1</th>\n",
       "      <td>U714157797</td>\n",
       "    </tr>\n",
       "    <tr>\n",
       "      <th>2</th>\n",
       "      <td>U507366950</td>\n",
       "    </tr>\n",
       "    <tr>\n",
       "      <th>3</th>\n",
       "      <td>U307862152</td>\n",
       "    </tr>\n",
       "    <tr>\n",
       "      <th>4</th>\n",
       "      <td>U742726598</td>\n",
       "    </tr>\n",
       "  </tbody>\n",
       "</table>\n",
       "</div>"
      ],
      "text/plain": [
       "   ReviewerID\n",
       "0  U490934656\n",
       "1  U714157797\n",
       "2  U507366950\n",
       "3  U307862152\n",
       "4  U742726598"
      ]
     },
     "execution_count": 29,
     "metadata": {},
     "output_type": "execute_result"
    }
   ],
   "source": [
    "# Convert to Pandas df\n",
    "train_users_df = pd.DataFrame(train_users, columns = ['ReviewerID'])\n",
    "test_users_df = pd.DataFrame(test_users, columns = ['ReviewerID'])\n",
    "\n",
    "train_users_df.head()"
   ]
  },
  {
   "cell_type": "code",
   "execution_count": 30,
   "metadata": {},
   "outputs": [
    {
     "data": {
      "text/plain": [
       "U897446633    108\n",
       "U761252500     57\n",
       "U117785953     57\n",
       "U232908133     48\n",
       "U026509570     47\n",
       "             ... \n",
       "U599505683      1\n",
       "U371657250      1\n",
       "U825667828      1\n",
       "U272527284      1\n",
       "U916222473      1\n",
       "Name: ReviewerID, Length: 39239, dtype: int64"
      ]
     },
     "execution_count": 30,
     "metadata": {},
     "output_type": "execute_result"
    }
   ],
   "source": [
    "# Users with most reviews\n",
    "pd.value_counts(train_users_df['ReviewerID'])"
   ]
  },
  {
   "cell_type": "code",
   "execution_count": 31,
   "metadata": {},
   "outputs": [
    {
     "data": {
      "text/plain": [
       "U761252500    8\n",
       "U610878400    6\n",
       "U117785953    6\n",
       "U411608196    6\n",
       "U263068464    6\n",
       "             ..\n",
       "U371792113    1\n",
       "U817459023    1\n",
       "U776105764    1\n",
       "U276238811    1\n",
       "U749092797    1\n",
       "Name: ReviewerID, Length: 11698, dtype: int64"
      ]
     },
     "execution_count": 31,
     "metadata": {},
     "output_type": "execute_result"
    }
   ],
   "source": [
    "pd.value_counts(test_users_df['ReviewerID'])"
   ]
  },
  {
   "cell_type": "code",
   "execution_count": 32,
   "metadata": {},
   "outputs": [
    {
     "data": {
      "text/plain": [
       "ReviewerID\n",
       "U000005569     5\n",
       "U000024709    10\n",
       "U000041850     8\n",
       "U000089279     2\n",
       "U000131684     3\n",
       "Name: ReviewCount, dtype: int64"
      ]
     },
     "execution_count": 32,
     "metadata": {},
     "output_type": "execute_result"
    }
   ],
   "source": [
    "# Summarize review counts by user in both the training set and the test set\n",
    "train_users_df['ReviewCount'] = 1\n",
    "\n",
    "train_user_counts = train_users_df.groupby(['ReviewerID']).sum()['ReviewCount']\n",
    "train_user_counts.head()"
   ]
  },
  {
   "cell_type": "code",
   "execution_count": 33,
   "metadata": {},
   "outputs": [
    {
     "data": {
      "text/plain": [
       "ReviewerID\n",
       "U000024709    1\n",
       "U000243198    1\n",
       "U000382648    1\n",
       "U000442276    3\n",
       "U000446326    1\n",
       "Name: ReviewCount, dtype: int64"
      ]
     },
     "execution_count": 33,
     "metadata": {},
     "output_type": "execute_result"
    }
   ],
   "source": [
    "test_users_df['ReviewCount'] = 1\n",
    "\n",
    "test_user_counts = test_users_df.groupby(['ReviewerID']).sum()['ReviewCount']\n",
    "test_user_counts.head()"
   ]
  },
  {
   "cell_type": "code",
   "execution_count": 34,
   "metadata": {},
   "outputs": [
    {
     "name": "stdout",
     "output_type": "stream",
     "text": [
      "Training set reviewers:  39239\n",
      "Test set reviewers:  11698\n"
     ]
    }
   ],
   "source": [
    "print(\"Training set reviewers: \", len(train_user_counts))\n",
    "print(\"Test set reviewers: \", len(test_user_counts))"
   ]
  },
  {
   "cell_type": "code",
   "execution_count": 36,
   "metadata": {},
   "outputs": [
    {
     "data": {
      "text/html": [
       "<div>\n",
       "<style scoped>\n",
       "    .dataframe tbody tr th:only-of-type {\n",
       "        vertical-align: middle;\n",
       "    }\n",
       "\n",
       "    .dataframe tbody tr th {\n",
       "        vertical-align: top;\n",
       "    }\n",
       "\n",
       "    .dataframe thead th {\n",
       "        text-align: right;\n",
       "    }\n",
       "</style>\n",
       "<table border=\"1\" class=\"dataframe\">\n",
       "  <thead>\n",
       "    <tr style=\"text-align: right;\">\n",
       "      <th></th>\n",
       "      <th>ReviewCountTrain</th>\n",
       "      <th>ReviewCountTest</th>\n",
       "    </tr>\n",
       "    <tr>\n",
       "      <th>ReviewerID</th>\n",
       "      <th></th>\n",
       "      <th></th>\n",
       "    </tr>\n",
       "  </thead>\n",
       "  <tbody>\n",
       "    <tr>\n",
       "      <th>U000024709</th>\n",
       "      <td>10</td>\n",
       "      <td>1</td>\n",
       "    </tr>\n",
       "    <tr>\n",
       "      <th>U000243198</th>\n",
       "      <td>3</td>\n",
       "      <td>1</td>\n",
       "    </tr>\n",
       "    <tr>\n",
       "      <th>U000382648</th>\n",
       "      <td>7</td>\n",
       "      <td>1</td>\n",
       "    </tr>\n",
       "    <tr>\n",
       "      <th>U000442276</th>\n",
       "      <td>17</td>\n",
       "      <td>3</td>\n",
       "    </tr>\n",
       "    <tr>\n",
       "      <th>U000446326</th>\n",
       "      <td>4</td>\n",
       "      <td>1</td>\n",
       "    </tr>\n",
       "  </tbody>\n",
       "</table>\n",
       "</div>"
      ],
      "text/plain": [
       "            ReviewCountTrain  ReviewCountTest\n",
       "ReviewerID                                   \n",
       "U000024709                10                1\n",
       "U000243198                 3                1\n",
       "U000382648                 7                1\n",
       "U000442276                17                3\n",
       "U000446326                 4                1"
      ]
     },
     "execution_count": 36,
     "metadata": {},
     "output_type": "execute_result"
    }
   ],
   "source": [
    "reviewers_merge = pd.merge(train_user_counts, test_user_counts, how = 'inner', \n",
    "                           on = ['ReviewerID'], suffixes = ('Train', 'Test'))\n",
    "reviewers_merge.head()"
   ]
  },
  {
   "cell_type": "code",
   "execution_count": 37,
   "metadata": {},
   "outputs": [
    {
     "data": {
      "text/plain": [
       "11658"
      ]
     },
     "execution_count": 37,
     "metadata": {},
     "output_type": "execute_result"
    }
   ],
   "source": [
    "len(reviewers_merge)"
   ]
  },
  {
   "cell_type": "code",
   "execution_count": 39,
   "metadata": {},
   "outputs": [
    {
     "name": "stdout",
     "output_type": "stream",
     "text": [
      "Pct of test users previously seen:  0.9965806120704394\n"
     ]
    }
   ],
   "source": [
    "pct_seen = len(reviewers_merge) / len(test_user_counts)\n",
    "print(\"Pct of test users previously seen: \", pct_seen)"
   ]
  },
  {
   "cell_type": "code",
   "execution_count": 41,
   "metadata": {},
   "outputs": [
    {
     "data": {
      "text/plain": [
       "5.416452221650369"
      ]
     },
     "execution_count": 41,
     "metadata": {},
     "output_type": "execute_result"
    }
   ],
   "source": [
    "reviewers_merge['ReviewCountTrain'].mean()"
   ]
  },
  {
   "cell_type": "code",
   "execution_count": 61,
   "metadata": {},
   "outputs": [
    {
     "data": {
      "text/plain": [
       "Text(0.5, 1.0, 'Histogram of Previously Seen Reviews per Test Reviewer')"
      ]
     },
     "execution_count": 61,
     "metadata": {},
     "output_type": "execute_result"
    },
    {
     "data": {
      "image/png": "[encoded data removed]",
      "text/plain": [
       "<Figure size 432x288 with 1 Axes>"
      ]
     },
     "metadata": {
      "needs_background": "light"
     },
     "output_type": "display_data"
    }
   ],
   "source": [
    "from matplotlib import pyplot as plt\n",
    "plt.hist(reviewers_merge['ReviewCountTrain'], bins = 100)\n",
    "plt.xlim(0, 20)\n",
    "plt.title('Histogram of Previously Seen Reviews per Test Reviewer')"
   ]
  },
  {
   "cell_type": "code",
   "execution_count": 44,
   "metadata": {},
   "outputs": [],
   "source": [
    "# We can get a better view of this with the Empirical CDF\n",
    "\n",
    "def ecdf(data):\n",
    "    \"\"\" Compute ECDF \"\"\"\n",
    "    x = np.sort(data)\n",
    "    n = x.size\n",
    "    y = np.arange(1, n+1) / n\n",
    "    return(x,y)"
   ]
  },
  {
   "cell_type": "code",
   "execution_count": 62,
   "metadata": {},
   "outputs": [
    {
     "data": {
      "text/plain": [
       "Text(0.5, 1.0, 'ECDF of Previously Seen Reviews per Test Reviewer')"
      ]
     },
     "execution_count": 62,
     "metadata": {},
     "output_type": "execute_result"
    },
    {
     "data": {
      "image/png": "[encoded data removed]",
      "text/plain": [
       "<Figure size 432x288 with 1 Axes>"
      ]
     },
     "metadata": {
      "needs_background": "light"
     },
     "output_type": "display_data"
    }
   ],
   "source": [
    "import numpy as np\n",
    "x, y = ecdf(reviewers_merge['ReviewCountTrain'])\n",
    "plt.scatter(x, y )\n",
    "plt.xlim(0, 20)\n",
    "plt.title('ECDF of Previously Seen Reviews per Test Reviewer')"
   ]
  },
  {
   "cell_type": "markdown",
   "metadata": {},
   "source": [
    "### Key Finding\n",
    "\n",
    "The vast majority (>99%) of reviewers in the test data have already been seen in the training data, with 3-5 previous reviews being typical. This means that there might be predictive feature information about the reviewers that could be used to augment the text classification prediction. For example, it might turn out that many users tend to buy most or all of their purchases in a single category. We should experiment with this further."
   ]
  }
 ],
 "metadata": {
  "kernelspec": {
   "display_name": "Python 3",
   "language": "python",
   "name": "python3"
  },
  "language_info": {
   "codemirror_mode": {
    "name": "ipython",
    "version": 3
   },
   "file_extension": ".py",
   "mimetype": "text/x-python",
   "name": "python",
   "nbconvert_exporter": "python",
   "pygments_lexer": "ipython3",
   "version": "3.7.6"
  }
 },
 "nbformat": 4,
 "nbformat_minor": 4
}
