{
  "nbformat": 4,
  "nbformat_minor": 0,
  "metadata": {
    "colab": {
      "name": "Matrix Factorization",
      "provenance": [],
      "collapsed_sections": []
    },
    "kernelspec": {
      "name": "python3",
      "display_name": "Python 3"
    }
  },
  "cells": [
    {
      "cell_type": "code",
      "metadata": {
        "id": "5rvxHoUlsNJ2",
        "colab_type": "code",
        "colab": {
          "base_uri": "https://localhost:8080/",
          "height": 1000
        },
        "outputId": "1baf6ae4-330f-4f74-f8db-b4469146c4fb"
      },
      "source": [
        "!pip install git+https://github.com/d2l-ai/d2l-en # installing d2l\n",
        "!pip install -U mxnet-cu101mkl==1.6.0  # updating mxnet to at least v1.6"
      ],
      "execution_count": 1,
      "outputs": [
        {
          "output_type": "stream",
          "text": [
            "Collecting git+https://github.com/d2l-ai/d2l-en\n",
            "  Cloning https://github.com/d2l-ai/d2l-en to /tmp/pip-req-build-fx28ksdj\n",
            "  Running command git clone -q https://github.com/d2l-ai/d2l-en /tmp/pip-req-build-fx28ksdj\n",
            "Requirement already satisfied: jupyter in /usr/local/lib/python3.6/dist-packages (from d2l==0.13.2) (1.0.0)\n",
            "Requirement already satisfied: numpy in /usr/local/lib/python3.6/dist-packages (from d2l==0.13.2) (1.18.5)\n",
            "Requirement already satisfied: matplotlib in /usr/local/lib/python3.6/dist-packages (from d2l==0.13.2) (3.2.2)\n",
            "Requirement already satisfied: pandas in /usr/local/lib/python3.6/dist-packages (from d2l==0.13.2) (1.0.5)\n",
            "Requirement already satisfied: jupyter-console in /usr/local/lib/python3.6/dist-packages (from jupyter->d2l==0.13.2) (5.2.0)\n",
            "Requirement already satisfied: notebook in /usr/local/lib/python3.6/dist-packages (from jupyter->d2l==0.13.2) (5.2.2)\n",
            "Requirement already satisfied: ipywidgets in /usr/local/lib/python3.6/dist-packages (from jupyter->d2l==0.13.2) (7.5.1)\n",
            "Requirement already satisfied: qtconsole in /usr/local/lib/python3.6/dist-packages (from jupyter->d2l==0.13.2) (4.7.5)\n",
            "Requirement already satisfied: ipykernel in /usr/local/lib/python3.6/dist-packages (from jupyter->d2l==0.13.2) (4.10.1)\n",
            "Requirement already satisfied: nbconvert in /usr/local/lib/python3.6/dist-packages (from jupyter->d2l==0.13.2) (5.6.1)\n",
            "Requirement already satisfied: kiwisolver>=1.0.1 in /usr/local/lib/python3.6/dist-packages (from matplotlib->d2l==0.13.2) (1.2.0)\n",
            "Requirement already satisfied: pyparsing!=2.0.4,!=2.1.2,!=2.1.6,>=2.0.1 in /usr/local/lib/python3.6/dist-packages (from matplotlib->d2l==0.13.2) (2.4.7)\n",
            "Requirement already satisfied: python-dateutil>=2.1 in /usr/local/lib/python3.6/dist-packages (from matplotlib->d2l==0.13.2) (2.8.1)\n",
            "Requirement already satisfied: cycler>=0.10 in /usr/local/lib/python3.6/dist-packages (from matplotlib->d2l==0.13.2) (0.10.0)\n",
            "Requirement already satisfied: pytz>=2017.2 in /usr/local/lib/python3.6/dist-packages (from pandas->d2l==0.13.2) (2018.9)\n",
            "Requirement already satisfied: jupyter-client in /usr/local/lib/python3.6/dist-packages (from jupyter-console->jupyter->d2l==0.13.2) (5.3.4)\n",
            "Requirement already satisfied: ipython in /usr/local/lib/python3.6/dist-packages (from jupyter-console->jupyter->d2l==0.13.2) (5.5.0)\n",
            "Requirement already satisfied: pygments in /usr/local/lib/python3.6/dist-packages (from jupyter-console->jupyter->d2l==0.13.2) (2.1.3)\n",
            "Requirement already satisfied: prompt-toolkit<2.0.0,>=1.0.0 in /usr/local/lib/python3.6/dist-packages (from jupyter-console->jupyter->d2l==0.13.2) (1.0.18)\n",
            "Requirement already satisfied: ipython-genutils in /usr/local/lib/python3.6/dist-packages (from notebook->jupyter->d2l==0.13.2) (0.2.0)\n",
            "Requirement already satisfied: tornado>=4 in /usr/local/lib/python3.6/dist-packages (from notebook->jupyter->d2l==0.13.2) (4.5.3)\n",
            "Requirement already satisfied: terminado>=0.3.3; sys_platform != \"win32\" in /usr/local/lib/python3.6/dist-packages (from notebook->jupyter->d2l==0.13.2) (0.8.3)\n",
            "Requirement already satisfied: jupyter-core in /usr/local/lib/python3.6/dist-packages (from notebook->jupyter->d2l==0.13.2) (4.6.3)\n",
            "Requirement already satisfied: nbformat in /usr/local/lib/python3.6/dist-packages (from notebook->jupyter->d2l==0.13.2) (5.0.7)\n",
            "Requirement already satisfied: jinja2 in /usr/local/lib/python3.6/dist-packages (from notebook->jupyter->d2l==0.13.2) (2.11.2)\n",
            "Requirement already satisfied: traitlets>=4.2.1 in /usr/local/lib/python3.6/dist-packages (from notebook->jupyter->d2l==0.13.2) (4.3.3)\n",
            "Requirement already satisfied: widgetsnbextension~=3.5.0 in /usr/local/lib/python3.6/dist-packages (from ipywidgets->jupyter->d2l==0.13.2) (3.5.1)\n",
            "Requirement already satisfied: pyzmq>=17.1 in /usr/local/lib/python3.6/dist-packages (from qtconsole->jupyter->d2l==0.13.2) (19.0.1)\n",
            "Requirement already satisfied: qtpy in /usr/local/lib/python3.6/dist-packages (from qtconsole->jupyter->d2l==0.13.2) (1.9.0)\n",
            "Requirement already satisfied: testpath in /usr/local/lib/python3.6/dist-packages (from nbconvert->jupyter->d2l==0.13.2) (0.4.4)\n",
            "Requirement already satisfied: pandocfilters>=1.4.1 in /usr/local/lib/python3.6/dist-packages (from nbconvert->jupyter->d2l==0.13.2) (1.4.2)\n",
            "Requirement already satisfied: entrypoints>=0.2.2 in /usr/local/lib/python3.6/dist-packages (from nbconvert->jupyter->d2l==0.13.2) (0.3)\n",
            "Requirement already satisfied: defusedxml in /usr/local/lib/python3.6/dist-packages (from nbconvert->jupyter->d2l==0.13.2) (0.6.0)\n",
            "Requirement already satisfied: bleach in /usr/local/lib/python3.6/dist-packages (from nbconvert->jupyter->d2l==0.13.2) (3.1.5)\n",
            "Requirement already satisfied: mistune<2,>=0.8.1 in /usr/local/lib/python3.6/dist-packages (from nbconvert->jupyter->d2l==0.13.2) (0.8.4)\n",
            "Requirement already satisfied: six>=1.5 in /usr/local/lib/python3.6/dist-packages (from python-dateutil>=2.1->matplotlib->d2l==0.13.2) (1.12.0)\n",
            "Requirement already satisfied: decorator in /usr/local/lib/python3.6/dist-packages (from ipython->jupyter-console->jupyter->d2l==0.13.2) (4.4.2)\n",
            "Requirement already satisfied: pickleshare in /usr/local/lib/python3.6/dist-packages (from ipython->jupyter-console->jupyter->d2l==0.13.2) (0.7.5)\n",
            "Requirement already satisfied: simplegeneric>0.8 in /usr/local/lib/python3.6/dist-packages (from ipython->jupyter-console->jupyter->d2l==0.13.2) (0.8.1)\n",
            "Requirement already satisfied: setuptools>=18.5 in /usr/local/lib/python3.6/dist-packages (from ipython->jupyter-console->jupyter->d2l==0.13.2) (47.3.1)\n",
            "Requirement already satisfied: pexpect; sys_platform != \"win32\" in /usr/local/lib/python3.6/dist-packages (from ipython->jupyter-console->jupyter->d2l==0.13.2) (4.8.0)\n",
            "Requirement already satisfied: wcwidth in /usr/local/lib/python3.6/dist-packages (from prompt-toolkit<2.0.0,>=1.0.0->jupyter-console->jupyter->d2l==0.13.2) (0.2.5)\n",
            "Requirement already satisfied: ptyprocess; os_name != \"nt\" in /usr/local/lib/python3.6/dist-packages (from terminado>=0.3.3; sys_platform != \"win32\"->notebook->jupyter->d2l==0.13.2) (0.6.0)\n",
            "Requirement already satisfied: jsonschema!=2.5.0,>=2.4 in /usr/local/lib/python3.6/dist-packages (from nbformat->notebook->jupyter->d2l==0.13.2) (2.6.0)\n",
            "Requirement already satisfied: MarkupSafe>=0.23 in /usr/local/lib/python3.6/dist-packages (from jinja2->notebook->jupyter->d2l==0.13.2) (1.1.1)\n",
            "Requirement already satisfied: webencodings in /usr/local/lib/python3.6/dist-packages (from bleach->nbconvert->jupyter->d2l==0.13.2) (0.5.1)\n",
            "Requirement already satisfied: packaging in /usr/local/lib/python3.6/dist-packages (from bleach->nbconvert->jupyter->d2l==0.13.2) (20.4)\n",
            "Building wheels for collected packages: d2l\n",
            "  Building wheel for d2l (setup.py) ... \u001b[?25l\u001b[?25hdone\n",
            "  Created wheel for d2l: filename=d2l-0.13.2-cp36-none-any.whl size=48945 sha256=045893f05f27b4ffb8969d480555606f9921ae9d4edaf6d564b35b395bdf5357\n",
            "  Stored in directory: /tmp/pip-ephem-wheel-cache-av4yg3zp/wheels/82/6f/b8/8422c7ed664272685e3d139b127f89df39d934704a14b2156c\n",
            "Successfully built d2l\n",
            "Installing collected packages: d2l\n",
            "Successfully installed d2l-0.13.2\n",
            "Collecting mxnet-cu101mkl==1.6.0\n",
            "\u001b[?25l  Downloading https://files.pythonhosted.org/packages/3d/4b/e51dc49ca5fe6564028e7c91b10a3f79c00d710dd691b408c77597df5883/mxnet_cu101mkl-1.6.0-py2.py3-none-manylinux1_x86_64.whl (711.0MB)\n",
            "\u001b[K     |████████████████████████████████| 711.0MB 23kB/s \n",
            "\u001b[?25hRequirement already satisfied, skipping upgrade: requests<3,>=2.20.0 in /usr/local/lib/python3.6/dist-packages (from mxnet-cu101mkl==1.6.0) (2.23.0)\n",
            "Requirement already satisfied, skipping upgrade: numpy<2.0.0,>1.16.0 in /usr/local/lib/python3.6/dist-packages (from mxnet-cu101mkl==1.6.0) (1.18.5)\n",
            "Collecting graphviz<0.9.0,>=0.8.1\n",
            "  Downloading https://files.pythonhosted.org/packages/53/39/4ab213673844e0c004bed8a0781a0721a3f6bb23eb8854ee75c236428892/graphviz-0.8.4-py2.py3-none-any.whl\n",
            "Requirement already satisfied, skipping upgrade: chardet<4,>=3.0.2 in /usr/local/lib/python3.6/dist-packages (from requests<3,>=2.20.0->mxnet-cu101mkl==1.6.0) (3.0.4)\n",
            "Requirement already satisfied, skipping upgrade: urllib3!=1.25.0,!=1.25.1,<1.26,>=1.21.1 in /usr/local/lib/python3.6/dist-packages (from requests<3,>=2.20.0->mxnet-cu101mkl==1.6.0) (1.24.3)\n",
            "Requirement already satisfied, skipping upgrade: idna<3,>=2.5 in /usr/local/lib/python3.6/dist-packages (from requests<3,>=2.20.0->mxnet-cu101mkl==1.6.0) (2.9)\n",
            "Requirement already satisfied, skipping upgrade: certifi>=2017.4.17 in /usr/local/lib/python3.6/dist-packages (from requests<3,>=2.20.0->mxnet-cu101mkl==1.6.0) (2020.6.20)\n",
            "Installing collected packages: graphviz, mxnet-cu101mkl\n",
            "  Found existing installation: graphviz 0.10.1\n",
            "    Uninstalling graphviz-0.10.1:\n",
            "      Successfully uninstalled graphviz-0.10.1\n",
            "Successfully installed graphviz-0.8.4 mxnet-cu101mkl-1.6.0\n"
          ],
          "name": "stdout"
        }
      ]
    },
    {
      "cell_type": "code",
      "metadata": {
        "id": "TomfTKSasmnE",
        "colab_type": "code",
        "colab": {}
      },
      "source": [
        "import pandas as pd\n",
        "from d2l import mxnet as d2l\n",
        "from mxnet import gluon\n",
        "import numpy as np\n",
        "import gzip\n",
        "from collections import defaultdict\n",
        "from sklearn.model_selection import cross_validate\n",
        "import matplotlib.pyplot as plt"
      ],
      "execution_count": 2,
      "outputs": []
    },
    {
      "cell_type": "code",
      "metadata": {
        "id": "rLGUu0UFsy3J",
        "colab_type": "code",
        "colab": {}
      },
      "source": [
        "# Import users and items\n",
        "\n",
        "def readGz(f):\n",
        "  for l in gzip.open(f):\n",
        "    yield eval(l)\n",
        "data = []\n",
        "for l in readGz(\"/content/train.json.gz\"):\n",
        "    data.append(l)  \n",
        "users = []\n",
        "for l in readGz(\"train.json.gz\"):\n",
        "    users.append(l['reviewerID'])\n",
        "    \n",
        "items = []\n",
        "for l in readGz(\"train.json.gz\"):\n",
        "    items.append(l['itemID'])\n",
        "ratings = []\n",
        "for l in readGz(\"train.json.gz\"):\n",
        "    ratings.append(l['rating'])"
      ],
      "execution_count": 3,
      "outputs": []
    },
    {
      "cell_type": "code",
      "metadata": {
        "id": "4e0u63l_s6dd",
        "colab_type": "code",
        "colab": {}
      },
      "source": [
        "def split_data_ml100k(data, num_users, num_items,\n",
        "                      split_mode='random', test_ratio=0.2):\n",
        "    \"\"\"Split the dataset in random mode or seq-aware mode.\"\"\"\n",
        "    if split_mode == 'seq-aware':\n",
        "        train_items, test_items, train_list = {}, {}, []\n",
        "        for line in data.itertuples():\n",
        "            u, i, rating = line[1], line[2], line[3]\n",
        "            train_items.setdefault(u, []).append((u, i, rating))\n",
        "            if u not in test_items or test_items[u][-1] < time:\n",
        "                test_items[u] = (i, rating, time)\n",
        "        for u in range(1, num_users + 1):\n",
        "            train_list.extend(sorted(train_items[u], key=lambda k: k[3]))\n",
        "        test_data = [(key, *value) for key, value in test_items.items()]\n",
        "        train_data = [item for item in train_list if item not in test_data]\n",
        "        train_data = pd.DataFrame(train_data)\n",
        "        test_data = pd.DataFrame(test_data)\n",
        "    else:\n",
        "        mask = [True if x == 1 else False for x in np.random.uniform(\n",
        "            0, 1, (len(data))) < 1 - test_ratio]\n",
        "        neg_mask = [not x for x in mask]\n",
        "        train_data, test_data = data[mask], data[neg_mask]\n",
        "    return train_data, test_data"
      ],
      "execution_count": 4,
      "outputs": []
    },
    {
      "cell_type": "code",
      "metadata": {
        "id": "mfxbwgIouBHi",
        "colab_type": "code",
        "colab": {}
      },
      "source": [
        "data=pd.DataFrame(data)"
      ],
      "execution_count": 5,
      "outputs": []
    },
    {
      "cell_type": "code",
      "metadata": {
        "id": "Bv4iA3CW7D5f",
        "colab_type": "code",
        "colab": {}
      },
      "source": [
        "data=data.drop(columns=['reviewTime','reviewText','helpful','reviewHash',\t'categories',\t'unixReviewTime','helpful','summary',\t'categoryID',\t'price'])"
      ],
      "execution_count": 6,
      "outputs": []
    },
    {
      "cell_type": "code",
      "metadata": {
        "id": "pgdBhoUd9HS6",
        "colab_type": "code",
        "colab": {}
      },
      "source": [
        "users_df = pd.DataFrame(users)\n",
        "items_df = pd.DataFrame(items)\n",
        "ratings_df = pd.DataFrame(ratings)"
      ],
      "execution_count": 7,
      "outputs": []
    },
    {
      "cell_type": "code",
      "metadata": {
        "id": "_LG-uFD39JvZ",
        "colab_type": "code",
        "colab": {}
      },
      "source": [
        "num_users = users_df[0].unique().shape[0]\n",
        "num_items = items_df[0].unique().shape[0]"
      ],
      "execution_count": 8,
      "outputs": []
    },
    {
      "cell_type": "code",
      "metadata": {
        "id": "69477iX2tAKA",
        "colab_type": "code",
        "colab": {}
      },
      "source": [
        "train_data, test_data = split_data_ml100k(data, num_users, num_items,\n",
        "    test_ratio=0.2)"
      ],
      "execution_count": 9,
      "outputs": []
    },
    {
      "cell_type": "code",
      "metadata": {
        "id": "sMJyKy6lB-3z",
        "colab_type": "code",
        "colab": {
          "base_uri": "https://localhost:8080/",
          "height": 34
        },
        "outputId": "0b405a5b-33c9-4bbb-da67-432c1c5666aa"
      },
      "source": [
        "alpha=train_data['rating'].mean()\n",
        "alpha"
      ],
      "execution_count": 10,
      "outputs": [
        {
          "output_type": "execute_result",
          "data": {
            "text/plain": [
              "4.233845537814705"
            ]
          },
          "metadata": {
            "tags": []
          },
          "execution_count": 10
        }
      ]
    },
    {
      "cell_type": "code",
      "metadata": {
        "id": "LMipZ95VvTjt",
        "colab_type": "code",
        "colab": {}
      },
      "source": [
        "user = {}\n",
        "item = {}\n",
        "user_index = 0\n",
        "item_index = 0\n",
        "\n",
        "\n",
        "for l in readGz(\"train.json.gz\"):\n",
        "    \n",
        "    if l['reviewerID'] not in user:\n",
        "        user[l['reviewerID']] = user_index; \n",
        "        user_index+=1\n",
        "    \n",
        "    if l['itemID'] not in item:\n",
        "        item[l['itemID']] = item_index; \n",
        "        item_index+=1\n",
        "        \n",
        "\n",
        "## test file\n",
        "file = open('pairs_Rating.txt', 'r')\n",
        "\n",
        "for l in file.readlines():\n",
        "    if l.startswith(\"reviewerID\"):\n",
        "        continue\n",
        "\n",
        "    u,i = l.strip().split('-')\n",
        "    if u not in user:\n",
        "        user[u] = user_index;\n",
        "        user_index+=1\n",
        "    \n",
        "    if i not in item:\n",
        "        item[i] = item_index; \n",
        "        item_index+=1\n",
        "file.close()"
      ],
      "execution_count": 11,
      "outputs": []
    },
    {
      "cell_type": "code",
      "metadata": {
        "id": "-GSpaqkKYe-w",
        "colab_type": "code",
        "colab": {}
      },
      "source": [
        "train_user_diction = {};   ## dict of items per user\n",
        "train_item_diction = {};   ## dict of users per item\n",
        "train_ratings = [];    ## labels for train data\n",
        "user_max=0;     \n",
        "item_max=0;     \n"
      ],
      "execution_count": 12,
      "outputs": []
    },
    {
      "cell_type": "code",
      "metadata": {
        "id": "d5Yg-z5KFxpl",
        "colab_type": "code",
        "colab": {}
      },
      "source": [
        "for l in train_data.itertuples():\n",
        "\tuser_id = int(user[l[1]])\n",
        "\titem_id = int(item[l[2]])\n",
        "\trating = float(l[3])\t\n",
        " \n",
        "\ttrain_ratings.append(rating)\n",
        "\t\n",
        "\tif(user_max<user_id):\n",
        "\t\tuser_max = user_id;\n",
        "\t\t\t\n",
        "\tif(item_max<item_id):\n",
        "\t\titem_max = item_id;\n",
        "\t\t\t\n",
        "\tif user_id not in train_user_diction:\n",
        "\t\ttrain_user_diction[user_id] = 1;\n",
        "\telse:\n",
        "\t\ttrain_user_diction[user_id]+=1;\n",
        "\t\t\t\n",
        "\tif item_id not in train_item_diction:\n",
        "\t\ttrain_item_diction[item_id] = 1;\n",
        "\telse:\n",
        "\t\ttrain_item_diction[item_id]+=1;\n",
        "\t\t\n",
        "\n",
        "\n"
      ],
      "execution_count": 13,
      "outputs": []
    },
    {
      "cell_type": "code",
      "metadata": {
        "id": "3fPkbid7s1Pf",
        "colab_type": "code",
        "colab": {}
      },
      "source": [
        "## test data for rating prediction\n",
        "\n",
        "for l in open('pairs_Rating.txt', 'r'):\n",
        "\tif l.startswith(\"reviewerID\"):\n",
        "\t\t\tcontinue\n",
        "\tu,i = l.strip().split('-')\n",
        "\tuser_id = int(user[u])\n",
        "\titem_id = int(item[i])\n",
        "\n",
        "\t\n",
        "\tif(user_max<user_id):\n",
        "\t\tuser_max = user_id;\n",
        "\t\t\t\n",
        "\tif(item_max<item_id):\n",
        "\t\titem_max = item_id;"
      ],
      "execution_count": 14,
      "outputs": []
    },
    {
      "cell_type": "code",
      "metadata": {
        "id": "ew_T0Pvns3pH",
        "colab_type": "code",
        "colab": {
          "base_uri": "https://localhost:8080/",
          "height": 34
        },
        "outputId": "5d5ff3d4-6855-46f7-852e-0cf7c79bbd63"
      },
      "source": [
        "num_users = user_max+1;\n",
        "num_items = item_max+1;\n",
        "print('number of users: %i, number of items: %i' % (num_users, num_items))"
      ],
      "execution_count": 15,
      "outputs": [
        {
          "output_type": "stream",
          "text": [
            "number of users: 39283, number of items: 19915\n"
          ],
          "name": "stdout"
        }
      ]
    },
    {
      "cell_type": "code",
      "metadata": {
        "id": "yuBUuDKnsqKI",
        "colab_type": "code",
        "colab": {}
      },
      "source": [
        "test_ratings = []  ## labels for test data\n",
        "for l in test_data.itertuples():\n",
        "  rating = float(l[3])\n",
        "  test_ratings.append(rating)"
      ],
      "execution_count": 16,
      "outputs": []
    },
    {
      "cell_type": "code",
      "metadata": {
        "id": "eORlednXCxoD",
        "colab_type": "code",
        "colab": {}
      },
      "source": [
        "#Initializing Parameters for training\n",
        "lmbda = 1 # Regularisation weight\n",
        "k = 40  # Latent space dimension\n",
        "epochs = 20  # Epochs\n",
        "lr = 0.001  # Learning rate\n",
        "mf = 0.01   # multiplication factor"
      ],
      "execution_count": 17,
      "outputs": []
    },
    {
      "cell_type": "code",
      "metadata": {
        "id": "fgkfQwJzz8bH",
        "colab_type": "code",
        "colab": {}
      },
      "source": [
        "# Create training interaction matrix\n",
        "import random\n",
        "R = np.zeros((num_users, num_items))\n",
        "m, n = R.shape  \n",
        "for l in train_data.itertuples():\n",
        "  user_id = int(user[l[1]])\n",
        "  item_id = int(item[l[2]])\n",
        "  rating = float(l[3])\n",
        "  R[user_id,item_id] = rating\n",
        "\n",
        "\n",
        "beta_u = mf*np.zeros((num_users,1))    ## user bias\n",
        "beta_i = mf*np.zeros((num_items,1))    ## item bias\n",
        "\n",
        "P =  mf*np.random.randn(k,m) # Latent user matrix\n",
        "Q =  mf*np.random.randn(k,n) # Latent item matrix\n",
        "\n",
        "beta_u = beta_u.flatten()\n",
        "beta_i = beta_i.flatten()\n",
        "\n",
        "#Only consider non-zero matrix \n",
        "users,items = R.nonzero()      "
      ],
      "execution_count": 18,
      "outputs": []
    },
    {
      "cell_type": "code",
      "metadata": {
        "id": "i4d8eLIL5RmL",
        "colab_type": "code",
        "colab": {
          "base_uri": "https://localhost:8080/",
          "height": 357
        },
        "outputId": "5beda26c-4ea5-40be-cffa-7cc5131af95a"
      },
      "source": [
        "## Training Loop to optimize functions\n",
        "for epoch in range(epochs):\n",
        "    for u, i in zip(users,items):\n",
        "        e = R[u, i] - (alpha + beta_u[u] + beta_i[i] + np.dot(P[:,u].T,Q[:,i]))  # gradient error\n",
        "        beta_i[i] += lr*(e - lmbda*beta_i[i])\n",
        "        beta_u[u] += lr*(e - lmbda*beta_u[u])\n",
        "        P[:,u] += lr * ( e * Q[:,i] - lmbda * P[:,u]) # Update user matrix\n",
        "        Q[:,i] += lr * ( e * P[:,u] - lmbda * Q[:,i])  # Update item matrix\n",
        "    \n",
        "    index = 0\n",
        "    diff = 0\n",
        "\n",
        "    for l in train_data.itertuples():\n",
        "      u = int(user[l[1]])\n",
        "      i = int(item[l[2]])\n",
        "      r = float(l[3])\n",
        "      rating = min(40,(alpha+ beta_u[u] + beta_i[i] + np.dot(P[:,u].T,Q[:,i])))\n",
        "      diff += (train_ratings[index] - rating)**2\n",
        "      index+=1\n",
        "\n",
        "    mse = diff/len(train_ratings)\n",
        "    print(epoch, mse)\n",
        "    \n",
        "    \n",
        "\n",
        "\n",
        "predict = []    ## predicted labels    "
      ],
      "execution_count": 25,
      "outputs": [
        {
          "output_type": "stream",
          "text": [
            "0 0.9670428194633509\n",
            "1 0.9648947857653636\n",
            "2 0.9627794905553078\n",
            "3 0.9606962159892233\n",
            "4 0.9586442663422042\n",
            "5 0.956622967084366\n",
            "6 0.9546316640070512\n",
            "7 0.9526697223957652\n",
            "8 0.9507365262467499\n",
            "9 0.948831477524144\n",
            "10 0.9469539954555639\n",
            "11 0.945103515863171\n",
            "12 0.9432794905282562\n",
            "13 0.941481386587227\n",
            "14 0.9397086859569709\n",
            "15 0.9379608847879906\n",
            "16 0.9362374929435586\n",
            "17 0.934538033503259\n",
            "18 0.9328620422897346\n",
            "19 0.9312090674170168\n"
          ],
          "name": "stdout"
        }
      ]
    },
    {
      "cell_type": "code",
      "metadata": {
        "id": "WHEh5mi3yrxl",
        "colab_type": "code",
        "colab": {
          "base_uri": "https://localhost:8080/",
          "height": 34
        },
        "outputId": "e733edc1-016e-4b32-d2ec-03e0256900e0"
      },
      "source": [
        "#Predicting test data ratings\n",
        "\n",
        "    \n",
        "index = 0\n",
        "diff = 0\n",
        "for l in test_data.itertuples():\n",
        "      u = int(user[l[1]])\n",
        "      i = int(item[l[2]])\n",
        "      r = float(l[3])\n",
        "      rating = min(40,(alpha+ beta_u[u] + beta_i[i] + np.dot(P[:,u].T,Q[:,i])))\n",
        "      diff += (test_ratings[index] - rating)**2\n",
        "      index+=1\n",
        "\n",
        "mse = diff/len(test_ratings)\n",
        "print(epoch, mse)\n",
        "  "
      ],
      "execution_count": 26,
      "outputs": [
        {
          "output_type": "stream",
          "text": [
            "19 1.1209336434766692\n"
          ],
          "name": "stdout"
        }
      ]
    },
    {
      "cell_type": "code",
      "metadata": {
        "id": "kkYo8F8_bjmO",
        "colab_type": "code",
        "colab": {}
      },
      "source": [
        "predict = []    ## predicted ratings\n",
        "user_index=0\n",
        "item_index=0\n",
        "for l in open('pairs_Rating.txt', 'r'):\n",
        "    if l.startswith(\"reviewerID\"):\n",
        "        continue\n",
        "    u,i = l.strip().split('-')\n",
        "    if u not in user:\n",
        "        user[u] = user_index; user_index+=1\n",
        "    \n",
        "    if i not in item:\n",
        "        item[i] = item_index; item_index+=1\n",
        "    ut=user[u]\n",
        "    it=item[i]\n",
        "    predict.append(min(10,(alpha+ beta_u[ut] + beta_i[it] + np.dot(P[:,ut].T,Q[:,it]))))\n",
        "    \n",
        "file.close()"
      ],
      "execution_count": 27,
      "outputs": []
    },
    {
      "cell_type": "code",
      "metadata": {
        "id": "g73dDbssb941",
        "colab_type": "code",
        "colab": {}
      },
      "source": [
        "predictb = open(\"predictions_Rating.txt\", 'w')\n",
        "index=0\n",
        "for l in open(\"pairs_Rating.txt\"):  \n",
        "  if l.startswith(\"reviewerID\"):    \n",
        "    #header    \n",
        "    predictb.write(l)    \n",
        "    continue  \n",
        "  u,i = l.strip().split('-')     \n",
        "  predictb.write(u + '-' + i + ',' + str(predict[index]) + '\\n')  \n",
        "  index+=1\n",
        "predictb.close()"
      ],
      "execution_count": 28,
      "outputs": []
    },
    {
      "cell_type": "code",
      "metadata": {
        "id": "Wj194q6V8geC",
        "colab_type": "code",
        "colab": {}
      },
      "source": [
        "for epoch in range(epochs):\n",
        "  for u, i in zip(users,items):\n",
        "\n",
        "      e = R[u, i] - (alpha + beta_u[u] + beta_i[i] + np.dot(P[:,u].T,Q[:,i]))  # Calculate error for gradient\n",
        "      beta_i[i] += lr*(e - lmbda*beta_i[i])\n",
        "      beta_u[u] += lr*(e - lmbda*beta_u[u])\n",
        "      P[:,u] += lr * ( e * Q[:,i] - lmbda * P[:,u]) # Update user matrix\n",
        "      Q[:,i] += lr * ( e * P[:,u] - lmbda * Q[:,i])  # Update item matrix"
      ],
      "execution_count": null,
      "outputs": []
    }
  ]
}