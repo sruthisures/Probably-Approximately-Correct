{
 "cells": [
  {
   "cell_type": "markdown",
   "metadata": {},
   "source": [
    "### Purchase Prediction: Shrink Training Data\n",
    "\n",
    "Shrink training data to include only users that appear in the test data. \n",
    "\n",
    "The fraction of training users who appear in the test data is much smaller than the fraction of training items that appear in the test data. We'll keep all the items to get as much signal on user similarity as we can, while still significantly reducing the training data size."
   ]
  },
  {
   "cell_type": "code",
   "execution_count": 1,
   "metadata": {},
   "outputs": [],
   "source": [
    "import pandas as pd\n",
    "import gzip"
   ]
  },
  {
   "cell_type": "code",
   "execution_count": 2,
   "metadata": {},
   "outputs": [],
   "source": [
    "# Import users and items from training data\n",
    "\n",
    "def readGz(f):\n",
    "  for l in gzip.open(f):\n",
    "    yield eval(l)\n",
    "    \n",
    "train_items = []\n",
    "for l in readGz(\"train.json.gz\"):\n",
    "    train_items.append(l['itemID'])\n",
    "    \n",
    "train_users = []\n",
    "for l in readGz(\"train.json.gz\"):\n",
    "    train_users.append(l['reviewerID'])"
   ]
  },
  {
   "cell_type": "code",
   "execution_count": 3,
   "metadata": {},
   "outputs": [],
   "source": [
    "#Import Test data\n",
    "\n",
    "test_allcol = pd.read_csv('pairs_Purchase.txt')\n",
    "\n",
    "pairings = list(test_allcol['reviewerID-itemID'])\n",
    "test_users = []\n",
    "test_items = []\n",
    "\n",
    "for pairing in pairings:\n",
    "    u, i = pairing.split('-')\n",
    "    test_users.append(u)\n",
    "    test_items.append(i)"
   ]
  },
  {
   "cell_type": "code",
   "execution_count": 4,
   "metadata": {},
   "outputs": [
    {
     "data": {
      "text/html": [
       "<div>\n",
       "<style scoped>\n",
       "    .dataframe tbody tr th:only-of-type {\n",
       "        vertical-align: middle;\n",
       "    }\n",
       "\n",
       "    .dataframe tbody tr th {\n",
       "        vertical-align: top;\n",
       "    }\n",
       "\n",
       "    .dataframe thead th {\n",
       "        text-align: right;\n",
       "    }\n",
       "</style>\n",
       "<table border=\"1\" class=\"dataframe\">\n",
       "  <thead>\n",
       "    <tr style=\"text-align: right;\">\n",
       "      <th></th>\n",
       "      <th>ReviewerID</th>\n",
       "      <th>ItemID</th>\n",
       "    </tr>\n",
       "  </thead>\n",
       "  <tbody>\n",
       "    <tr>\n",
       "      <th>0</th>\n",
       "      <td>U490934656</td>\n",
       "      <td>I402344648</td>\n",
       "    </tr>\n",
       "    <tr>\n",
       "      <th>1</th>\n",
       "      <td>U714157797</td>\n",
       "      <td>I697650540</td>\n",
       "    </tr>\n",
       "    <tr>\n",
       "      <th>2</th>\n",
       "      <td>U507366950</td>\n",
       "      <td>I464613034</td>\n",
       "    </tr>\n",
       "    <tr>\n",
       "      <th>3</th>\n",
       "      <td>U307862152</td>\n",
       "      <td>I559560885</td>\n",
       "    </tr>\n",
       "    <tr>\n",
       "      <th>4</th>\n",
       "      <td>U742726598</td>\n",
       "      <td>I476005312</td>\n",
       "    </tr>\n",
       "    <tr>\n",
       "      <th>...</th>\n",
       "      <td>...</td>\n",
       "      <td>...</td>\n",
       "    </tr>\n",
       "    <tr>\n",
       "      <th>199995</th>\n",
       "      <td>U781794983</td>\n",
       "      <td>I245323432</td>\n",
       "    </tr>\n",
       "    <tr>\n",
       "      <th>199996</th>\n",
       "      <td>U151975942</td>\n",
       "      <td>I990230316</td>\n",
       "    </tr>\n",
       "    <tr>\n",
       "      <th>199997</th>\n",
       "      <td>U525354881</td>\n",
       "      <td>I037381245</td>\n",
       "    </tr>\n",
       "    <tr>\n",
       "      <th>199998</th>\n",
       "      <td>U995566285</td>\n",
       "      <td>I343675670</td>\n",
       "    </tr>\n",
       "    <tr>\n",
       "      <th>199999</th>\n",
       "      <td>U994496485</td>\n",
       "      <td>I757871532</td>\n",
       "    </tr>\n",
       "  </tbody>\n",
       "</table>\n",
       "<p>200000 rows × 2 columns</p>\n",
       "</div>"
      ],
      "text/plain": [
       "        ReviewerID      ItemID\n",
       "0       U490934656  I402344648\n",
       "1       U714157797  I697650540\n",
       "2       U507366950  I464613034\n",
       "3       U307862152  I559560885\n",
       "4       U742726598  I476005312\n",
       "...            ...         ...\n",
       "199995  U781794983  I245323432\n",
       "199996  U151975942  I990230316\n",
       "199997  U525354881  I037381245\n",
       "199998  U995566285  I343675670\n",
       "199999  U994496485  I757871532\n",
       "\n",
       "[200000 rows x 2 columns]"
      ]
     },
     "execution_count": 4,
     "metadata": {},
     "output_type": "execute_result"
    }
   ],
   "source": [
    "# Convert to Pandas df\n",
    "train_df = pd.DataFrame(train_users, columns = ['ReviewerID'])\n",
    "test_df = pd.DataFrame(test_users, columns = ['ReviewerID'])\n",
    "\n",
    "train_df['ItemID'] = pd.DataFrame(train_items)\n",
    "test_df['ItemID'] = pd.DataFrame(test_items)\n",
    "\n",
    "train_df"
   ]
  },
  {
   "cell_type": "code",
   "execution_count": 5,
   "metadata": {},
   "outputs": [
    {
     "data": {
      "text/html": [
       "<div>\n",
       "<style scoped>\n",
       "    .dataframe tbody tr th:only-of-type {\n",
       "        vertical-align: middle;\n",
       "    }\n",
       "\n",
       "    .dataframe tbody tr th {\n",
       "        vertical-align: top;\n",
       "    }\n",
       "\n",
       "    .dataframe thead th {\n",
       "        text-align: right;\n",
       "    }\n",
       "</style>\n",
       "<table border=\"1\" class=\"dataframe\">\n",
       "  <thead>\n",
       "    <tr style=\"text-align: right;\">\n",
       "      <th></th>\n",
       "      <th>ReviewerID</th>\n",
       "      <th>ItemID</th>\n",
       "    </tr>\n",
       "  </thead>\n",
       "  <tbody>\n",
       "    <tr>\n",
       "      <th>0</th>\n",
       "      <td>U938994110</td>\n",
       "      <td>I529819131</td>\n",
       "    </tr>\n",
       "    <tr>\n",
       "      <th>1</th>\n",
       "      <td>U181459539</td>\n",
       "      <td>I863471064</td>\n",
       "    </tr>\n",
       "    <tr>\n",
       "      <th>2</th>\n",
       "      <td>U941668816</td>\n",
       "      <td>I684585522</td>\n",
       "    </tr>\n",
       "    <tr>\n",
       "      <th>3</th>\n",
       "      <td>U768449391</td>\n",
       "      <td>I782253949</td>\n",
       "    </tr>\n",
       "    <tr>\n",
       "      <th>4</th>\n",
       "      <td>U640450168</td>\n",
       "      <td>I232683472</td>\n",
       "    </tr>\n",
       "    <tr>\n",
       "      <th>...</th>\n",
       "      <td>...</td>\n",
       "      <td>...</td>\n",
       "    </tr>\n",
       "    <tr>\n",
       "      <th>27995</th>\n",
       "      <td>U337041888</td>\n",
       "      <td>I763827121</td>\n",
       "    </tr>\n",
       "    <tr>\n",
       "      <th>27996</th>\n",
       "      <td>U457455307</td>\n",
       "      <td>I242828364</td>\n",
       "    </tr>\n",
       "    <tr>\n",
       "      <th>27997</th>\n",
       "      <td>U052546714</td>\n",
       "      <td>I111529174</td>\n",
       "    </tr>\n",
       "    <tr>\n",
       "      <th>27998</th>\n",
       "      <td>U566804667</td>\n",
       "      <td>I857242737</td>\n",
       "    </tr>\n",
       "    <tr>\n",
       "      <th>27999</th>\n",
       "      <td>U691248665</td>\n",
       "      <td>I871166941</td>\n",
       "    </tr>\n",
       "  </tbody>\n",
       "</table>\n",
       "<p>28000 rows × 2 columns</p>\n",
       "</div>"
      ],
      "text/plain": [
       "       ReviewerID      ItemID\n",
       "0      U938994110  I529819131\n",
       "1      U181459539  I863471064\n",
       "2      U941668816  I684585522\n",
       "3      U768449391  I782253949\n",
       "4      U640450168  I232683472\n",
       "...           ...         ...\n",
       "27995  U337041888  I763827121\n",
       "27996  U457455307  I242828364\n",
       "27997  U052546714  I111529174\n",
       "27998  U566804667  I857242737\n",
       "27999  U691248665  I871166941\n",
       "\n",
       "[28000 rows x 2 columns]"
      ]
     },
     "execution_count": 5,
     "metadata": {},
     "output_type": "execute_result"
    }
   ],
   "source": [
    "test_df"
   ]
  },
  {
   "cell_type": "code",
   "execution_count": 6,
   "metadata": {},
   "outputs": [
    {
     "data": {
      "text/plain": [
       "ReviewerID\n",
       "U000005569    1\n",
       "U000089279    1\n",
       "U000132800    1\n",
       "U000198945    2\n",
       "U000243198    2\n",
       "Name: TestReviewCount, dtype: int64"
      ]
     },
     "execution_count": 6,
     "metadata": {},
     "output_type": "execute_result"
    }
   ],
   "source": [
    "# Get distinct list of test reviewers\n",
    "test_df['TestReviewCount'] = 1\n",
    "\n",
    "test_user_counts = test_df.groupby(['ReviewerID']).sum()['TestReviewCount']\n",
    "test_user_counts.head()"
   ]
  },
  {
   "cell_type": "code",
   "execution_count": 7,
   "metadata": {},
   "outputs": [
    {
     "data": {
      "text/html": [
       "<div>\n",
       "<style scoped>\n",
       "    .dataframe tbody tr th:only-of-type {\n",
       "        vertical-align: middle;\n",
       "    }\n",
       "\n",
       "    .dataframe tbody tr th {\n",
       "        vertical-align: top;\n",
       "    }\n",
       "\n",
       "    .dataframe thead th {\n",
       "        text-align: right;\n",
       "    }\n",
       "</style>\n",
       "<table border=\"1\" class=\"dataframe\">\n",
       "  <thead>\n",
       "    <tr style=\"text-align: right;\">\n",
       "      <th></th>\n",
       "      <th>ReviewerID</th>\n",
       "      <th>ItemID</th>\n",
       "      <th>TestReviewCount</th>\n",
       "    </tr>\n",
       "  </thead>\n",
       "  <tbody>\n",
       "    <tr>\n",
       "      <th>0</th>\n",
       "      <td>U490934656</td>\n",
       "      <td>I402344648</td>\n",
       "      <td>1</td>\n",
       "    </tr>\n",
       "    <tr>\n",
       "      <th>1</th>\n",
       "      <td>U490934656</td>\n",
       "      <td>I330290793</td>\n",
       "      <td>1</td>\n",
       "    </tr>\n",
       "    <tr>\n",
       "      <th>2</th>\n",
       "      <td>U490934656</td>\n",
       "      <td>I296399509</td>\n",
       "      <td>1</td>\n",
       "    </tr>\n",
       "    <tr>\n",
       "      <th>3</th>\n",
       "      <td>U361187730</td>\n",
       "      <td>I773829721</td>\n",
       "      <td>1</td>\n",
       "    </tr>\n",
       "    <tr>\n",
       "      <th>4</th>\n",
       "      <td>U361187730</td>\n",
       "      <td>I781019543</td>\n",
       "      <td>1</td>\n",
       "    </tr>\n",
       "  </tbody>\n",
       "</table>\n",
       "</div>"
      ],
      "text/plain": [
       "   ReviewerID      ItemID  TestReviewCount\n",
       "0  U490934656  I402344648                1\n",
       "1  U490934656  I330290793                1\n",
       "2  U490934656  I296399509                1\n",
       "3  U361187730  I773829721                1\n",
       "4  U361187730  I781019543                1"
      ]
     },
     "execution_count": 7,
     "metadata": {},
     "output_type": "execute_result"
    }
   ],
   "source": [
    "train_df_shrink = pd.merge(train_df, test_user_counts, how = 'inner', \n",
    "                           on = ['ReviewerID'], suffixes = ('Train', 'Test'))\n",
    "train_df_shrink.head()"
   ]
  },
  {
   "cell_type": "code",
   "execution_count": 8,
   "metadata": {},
   "outputs": [
    {
     "data": {
      "text/plain": [
       "103537"
      ]
     },
     "execution_count": 8,
     "metadata": {},
     "output_type": "execute_result"
    }
   ],
   "source": [
    "len(train_df_shrink)"
   ]
  },
  {
   "cell_type": "markdown",
   "metadata": {},
   "source": [
    "We've nearly cut the training set in half. Let's export this file for later use and easy sharing."
   ]
  },
  {
   "cell_type": "code",
   "execution_count": 9,
   "metadata": {},
   "outputs": [],
   "source": [
    "train_df_shrink.to_csv('train_reduced.csv', index = False)"
   ]
  }
 ],
 "metadata": {
  "kernelspec": {
   "display_name": "Python 3",
   "language": "python",
   "name": "python3"
  },
  "language_info": {
   "codemirror_mode": {
    "name": "ipython",
    "version": 3
   },
   "file_extension": ".py",
   "mimetype": "text/x-python",
   "name": "python",
   "nbconvert_exporter": "python",
   "pygments_lexer": "ipython3",
   "version": "3.7.6"
  }
 },
 "nbformat": 4,
 "nbformat_minor": 4
}
