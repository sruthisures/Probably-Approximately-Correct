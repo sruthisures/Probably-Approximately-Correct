{
  "nbformat": 4,
  "nbformat_minor": 0,
  "metadata": {
    "colab": {
      "name": "Jaccard+Baseline.ipynb",
      "provenance": [],
      "collapsed_sections": []
    },
    "kernelspec": {
      "name": "python3",
      "display_name": "Python 3"
    },
    "accelerator": "GPU"
  },
  "cells": [
    {
      "cell_type": "code",
      "metadata": {
        "id": "iHfzKUO7cu4E",
        "colab_type": "code",
        "colab": {}
      },
      "source": [
        "import numpy as np\n",
        "import sklearn\n",
        "import scipy.optimize\n",
        "import pandas as pd\n",
        "import math\n",
        "import random\n",
        "from collections import defaultdict\n",
        "import gzip"
      ],
      "execution_count": 13,
      "outputs": []
    },
    {
      "cell_type": "code",
      "metadata": {
        "id": "TgCoL-vHfIpm",
        "colab_type": "code",
        "colab": {}
      },
      "source": [
        "# Import users and items\n",
        "\n",
        "def readGz(f):\n",
        "  for l in gzip.open(f):\n",
        "    yield eval(l)\n",
        "data = []\n",
        "for l in readGz(\"train.json.gz\"):\n",
        "    data.append(l)  \n",
        "users = []\n",
        "for l in readGz(\"train.json.gz\"):\n",
        "    users.append(l['reviewerID'])\n",
        "    \n",
        "items = []\n",
        "for l in readGz(\"train.json.gz\"):\n",
        "    items.append(l['itemID'])\n",
        "    \n",
        "category = []\n",
        "for l in readGz(\"train.json.gz\"):\n",
        "    category.append(l['categories'])"
      ],
      "execution_count": 2,
      "outputs": []
    },
    {
      "cell_type": "code",
      "metadata": {
        "id": "uZuIcrtofgeK",
        "colab_type": "code",
        "colab": {}
      },
      "source": [
        "def split_data_ml100k(data, num_users, num_items,\n",
        "                      split_mode='random', test_ratio=0.2):\n",
        "    \"\"\"Split the dataset in random mode or seq-aware mode.\"\"\"\n",
        "    if split_mode == 'seq-aware':\n",
        "        train_items, test_items, train_list = {}, {}, []\n",
        "        for line in data.itertuples():\n",
        "            u, i, rating = line[1], line[2], line[3]\n",
        "            train_items.setdefault(u, []).append((u, i, rating))\n",
        "            if u not in test_items or test_items[u][-1] < time:\n",
        "                test_items[u] = (i, rating, time)\n",
        "        for u in range(1, num_users + 1):\n",
        "            train_list.extend(sorted(train_items[u], key=lambda k: k[3]))\n",
        "        test_data = [(key, *value) for key, value in test_items.items()]\n",
        "        train_data = [item for item in train_list if item not in test_data]\n",
        "        train_data = pd.DataFrame(train_data)\n",
        "        test_data = pd.DataFrame(test_data)\n",
        "    else:\n",
        "        mask = [True if x == 1 else False for x in np.random.uniform(\n",
        "            0, 1, (len(data))) < 1 - test_ratio]\n",
        "        neg_mask = [not x for x in mask]\n",
        "        train_data, test_data = data[mask], data[neg_mask]\n",
        "    return train_data, test_data"
      ],
      "execution_count": 3,
      "outputs": []
    },
    {
      "cell_type": "code",
      "metadata": {
        "id": "8OVQhJMOfVoz",
        "colab_type": "code",
        "colab": {}
      },
      "source": [
        "data=pd.DataFrame(data)"
      ],
      "execution_count": 4,
      "outputs": []
    },
    {
      "cell_type": "code",
      "metadata": {
        "id": "tt-S4_xBflWD",
        "colab_type": "code",
        "colab": {}
      },
      "source": [
        "users_df = pd.DataFrame(users)\n",
        "items_df = pd.DataFrame(items)\n",
        "num_users = users_df[0].unique().shape[0]\n",
        "num_items = items_df[0].unique().shape[0]"
      ],
      "execution_count": 5,
      "outputs": []
    },
    {
      "cell_type": "code",
      "metadata": {
        "id": "wMerVsr7fkkx",
        "colab_type": "code",
        "colab": {}
      },
      "source": [
        "train_data,test_data=split_data_ml100k(data, num_users, num_items, test_ratio=0.2)"
      ],
      "execution_count": 6,
      "outputs": []
    },
    {
      "cell_type": "code",
      "metadata": {
        "id": "M5_kF5EGhvi6",
        "colab_type": "code",
        "colab": {}
      },
      "source": [
        "users_train, users_test = train_data['reviewerID'], test_data['reviewerID']\n",
        "items_train, items_test  = train_data['itemID'], test_data['itemID']\n",
        "category_train, category_test = train_data['categories'], test_data['categories']"
      ],
      "execution_count": 7,
      "outputs": []
    },
    {
      "cell_type": "code",
      "metadata": {
        "id": "r9jPSVjci3Dn",
        "colab_type": "code",
        "colab": {}
      },
      "source": [
        "user_diction = defaultdict(list)\n",
        "item_diction = defaultdict(list)\n",
        "\n",
        "for u,i,c in zip(users_train, items_train, category_train):\n",
        "    for row in c:\n",
        "        for subcat in row:\n",
        "            if subcat in user_diction[u]:\n",
        "              user_diction[u].append(subcat)\n",
        "            if subcat in item_diction[i]:\n",
        "              item_diction[i].append(subcat)\n",
        "            \n",
        "\n",
        "threshold = list(np.arange(0.182,0.19,0.001)) ##trying out different thresholds, might need to modify this later"
      ],
      "execution_count": 8,
      "outputs": []
    },
    {
      "cell_type": "code",
      "metadata": {
        "id": "llFzmYS-pN4C",
        "colab_type": "code",
        "colab": {}
      },
      "source": [
        "#jaccard similarity formula\n",
        "def jaccard_similarity(set1,set2):\n",
        "    common = set1.intersection(set2)\n",
        "    return float(len(common)) / (len(set1) + len(set2) - len(common))"
      ],
      "execution_count": 9,
      "outputs": []
    },
    {
      "cell_type": "code",
      "metadata": {
        "id": "UP7yPkOWlAzA",
        "colab_type": "code",
        "colab": {}
      },
      "source": [
        "#trying to see if different thresholds make a difference\n",
        "for k in threshold:\n",
        "    predict = []\n",
        "    for u,i in zip(users_test,items_test):\n",
        "        test_i = set(item_diction[i])\n",
        "        test_u = set(user_diction[u])\n",
        "        if len(test_u) != 0:\n",
        "            similarity = jaccard_similarity(test_i,test_u)\n",
        "            if similarity >= k:\n",
        "                predict.append(1)\n",
        "            else:\n",
        "                predict.append(0)\n",
        "        else:\n",
        "            predict.append(1)"
      ],
      "execution_count": 10,
      "outputs": []
    },
    {
      "cell_type": "code",
      "metadata": {
        "id": "syAUN_jYkAOU",
        "colab_type": "code",
        "colab": {}
      },
      "source": [
        "businessCount = defaultdict(int)\n",
        "totalPurchases = 0\n",
        "\n",
        "for l in readGz(\"train.json.gz\"):\n",
        "  user,business = l['reviewerID'],l['itemID']\n",
        "  businessCount[business] += 1\n",
        "  totalPurchases += 1\n",
        "\n",
        "mostPopular = [(businessCount[x], x) for x in businessCount]\n",
        "mostPopular.sort()\n",
        "mostPopular.reverse()\n",
        "\n",
        "return1 = set()\n",
        "count = 0\n",
        "for ic, i in mostPopular:\n",
        "  count += ic\n",
        "  return1.add(i)\n",
        "  if count > totalPurchases/2: break"
      ],
      "execution_count": 11,
      "outputs": []
    },
    {
      "cell_type": "code",
      "metadata": {
        "id": "0GGwJHiAj_S3",
        "colab_type": "code",
        "colab": {}
      },
      "source": [
        "predictions = open(\"predictions_Purchase.txt\", 'w')\n",
        "\n",
        "for l in open(\"pairs_Purchase.txt\"):\n",
        "    common = 0\n",
        "    if l.startswith(\"reviewerID\"):\n",
        "        predictions.write(l)\n",
        "        continue\n",
        "    u,i = l.strip().split('-')\n",
        "    item_cat = set(item_diction[i]) #converting to sets for jaccard\n",
        "    user_cat = set(user_diction[u]) #converting to sets for jaccard\n",
        "\n",
        "    if len(user_cat) != 0:\n",
        "        similarity = jaccard_similarity(item_cat,user_cat)\n",
        "        if similarity >= 0.182 or i in return1:\n",
        "            predictions.write(u + '-' + i + \",1\\n\")\n",
        "        else:\n",
        "            predictions.write(u + '-' + i + \",0\\n\")\n",
        "    elif len(user_cat) == 0 and i in return1:\n",
        "        predictions.write(u + '-' + i + \",1\\n\")\n",
        "    else:\n",
        "        predictions.write(u + '-' + i + \",0\\n\")\n",
        "\n",
        "predictions.close()"
      ],
      "execution_count": 12,
      "outputs": []
    }
  ]
}
